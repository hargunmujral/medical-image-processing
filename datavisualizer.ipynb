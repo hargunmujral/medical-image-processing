{
 "cells": [
  {
   "attachments": {},
   "cell_type": "markdown",
   "metadata": {},
   "source": [
    "# Prostate Data Analysis\n",
    "This notebook will be used to explore the prostate cancer dataset. Do not push any changes from this file to the repo\n",
    "\n",
    "You must download the dataset locally. You can download the zip file [here](https://drive.google.com/file/d/17_Nqvi5Z5Jo23X6AzoorMC2kSaw3DJH2/view)\n",
    "(If you have any issues obtaining access to the dataset, please message Jarett or Hargun)\n",
    "\n",
    "<b> Please Note: </b> Refer to the version control specifications in the README.md file in this repo regarding the dataset"
   ]
  },
  {
   "attachments": {},
   "cell_type": "markdown",
   "metadata": {},
   "source": [
    "### Patient Class\n",
    "\n",
    "Access and observe patient data "
   ]
  },
  {
   "cell_type": "code",
   "execution_count": null,
   "metadata": {},
   "outputs": [],
   "source": [
    "import sys\n",
    "\n",
    "sys.path.insert(0, \"..\")\n"
   ]
  },
  {
   "cell_type": "code",
   "execution_count": null,
   "metadata": {},
   "outputs": [],
   "source": [
    "from dataset import LesionDataset\n",
    "\n",
    "dataset = LesionDataset('data') #local path to data\n",
    "for patient in dataset.patients():\n",
    "    \"\"\"Patient is an instance of the Patient class\n",
    "\n",
    "    The `Patient` class exposes a number of methods for accessing a patient's associated data:\n",
    "    - `Patient.image_data(image_type)` - returns the image, prostate mask, and lesion arrays\n",
    "    corresponding to `image_type`\n",
    "    - `Patient.world_matrix()` - returns the world matrix of `image_type`\n",
    "    - `Patient.spacing(image_type)` - returns the voxel spacing of `image_type`\n",
    "    - `Patient.bvals()` - returns the b-values of the DWI images\n",
    "    - `Patient.slice_data(image_type, slice_index, crop_to_mask=False, pad=0)` - returns a particular\n",
    "    slice of the image/mask data, optionally cropped to the prostate mask for easier visualization.\n",
    "    \"\"\"\n",
    "    print(patient.patient_id)\n",
    "\n",
    "print(dataset.query('ProstateX-0000'))"
   ]
  },
  {
   "attachments": {},
   "cell_type": "markdown",
   "metadata": {},
   "source": [
    "### Visualize images and masks\n",
    "\n",
    "Visualize and plot respective lesions of a particular patient"
   ]
  },
  {
   "cell_type": "code",
   "execution_count": null,
   "metadata": {},
   "outputs": [],
   "source": [
    "import matplotlib.pyplot as plt\n",
    "from utils import plot_mask\n",
    "\n",
    "data_dir = 'data' # path to data folder\n",
    "query_patient = 'ProstateX-0011' # patient \n",
    "slice_index = 11 # particular slice of the image\n",
    "\n",
    "dataset = LesionDataset(data_dir)\n",
    "patient = dataset.query(query_patient)\n",
    "\n",
    "adc, adc_prost_mask, adc_mask = patient.slice_data('ADC', slice_index)\n",
    "t2w, t2w_prost_mask, t2w_mask = patient.slice_data('T2w', slice_index)\n",
    "ktrans, ktrans_prost_mask, ktrans_mask = patient.slice_data('Ktrans', slice_index)\n",
    "cdis, cdis_prost_mask, cdis_mask = patient.slice_data('CDIs', slice_index)\n",
    "\n",
    "_, ax = plt.subplots(2, 2)\n",
    "ax = ax.ravel()\n",
    "ax[0].imshow(adc, cmap='gray')\n",
    "plot_mask(ax[0], adc_prost_mask, color='g', linestyle='-')\n",
    "plot_mask(ax[0], adc_mask, color='r', linestyle='-')\n",
    "ax[0].set_title('ADC')\n",
    "ax[1].imshow(t2w, cmap='gray')\n",
    "plot_mask(ax[1], t2w_prost_mask, color='g', linestyle='-')\n",
    "plot_mask(ax[1], t2w_mask, color='r', linestyle='-')\n",
    "ax[1].set_title('T2w')\n",
    "ax[2].imshow(ktrans, cmap='gray')\n",
    "plot_mask(ax[2], ktrans_prost_mask, color='g', linestyle='-')\n",
    "plot_mask(ax[2], ktrans_mask, color='r', linestyle='-')\n",
    "ax[2].set_title('$k^{trans}$')\n",
    "ax[3].imshow(cdis, cmap='gray')\n",
    "plot_mask(ax[3], cdis_prost_mask, color='g', linestyle='-')\n",
    "plot_mask(ax[3], cdis_mask, color='r', linestyle='-')\n",
    "ax[3].set_title('CDIs')\n",
    "\n",
    "adc, adc_prost_mask, adc_mask = patient.slice_data('ADC', slice_index, crop_to_mask=True)\n",
    "t2w, t2w_prost_mask, t2w_mask = patient.slice_data('T2w', slice_index, crop_to_mask=True)\n",
    "ktrans, ktrans_prost_mask, ktrans_mask = patient.slice_data('Ktrans', slice_index, crop_to_mask=True)\n",
    "cdis, cdis_prost_mask, cdis_mask = patient.slice_data('CDIs', slice_index, crop_to_mask=True)\n",
    "\n",
    "_, ax = plt.subplots(2, 2)\n",
    "ax = ax.ravel()\n",
    "ax[0].imshow(adc, cmap='gray')\n",
    "plot_mask(ax[0], adc_prost_mask, color='g', linestyle='-')\n",
    "plot_mask(ax[0], adc_mask, color='r', linestyle='-')\n",
    "ax[0].set_title('ADC')\n",
    "ax[1].imshow(t2w, cmap='gray')\n",
    "plot_mask(ax[1], t2w_prost_mask, color='g', linestyle='-')\n",
    "plot_mask(ax[1], t2w_mask, color='r', linestyle='-')\n",
    "ax[1].set_title('T2w')\n",
    "ax[2].imshow(ktrans, cmap='gray')\n",
    "plot_mask(ax[2], ktrans_prost_mask, color='g', linestyle='-')\n",
    "plot_mask(ax[2], ktrans_mask, color='r', linestyle='-')\n",
    "ax[2].set_title('$k^{trans}$')\n",
    "ax[3].imshow(cdis, cmap='gray')\n",
    "plot_mask(ax[3], cdis_prost_mask, color='g', linestyle='-')\n",
    "plot_mask(ax[3], cdis_mask, color='r', linestyle='-')\n",
    "ax[3].set_title('CDIs')\n",
    "plt.show()"
   ]
  }
 ],
 "metadata": {
  "kernelspec": {
   "display_name": "Python 3.10.10 64-bit (microsoft store)",
   "language": "python",
   "name": "python3"
  },
  "language_info": {
   "codemirror_mode": {
    "name": "ipython",
    "version": 3
   },
   "file_extension": ".py",
   "mimetype": "text/x-python",
   "name": "python",
   "nbconvert_exporter": "python",
   "pygments_lexer": "ipython3",
   "version": "3.10.10"
  },
  "orig_nbformat": 4,
  "vscode": {
   "interpreter": {
    "hash": "f96f3ab603a3bef17b306e180372a45f4321da3e296b798bb08e31965ea4c400"
   }
  }
 },
 "nbformat": 4,
 "nbformat_minor": 2
}

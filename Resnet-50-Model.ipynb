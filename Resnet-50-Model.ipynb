{
 "cells": [
  {
   "cell_type": "markdown",
   "metadata": {},
   "source": [
    "# ResNet-50 Model"
   ]
  },
  {
   "cell_type": "markdown",
   "metadata": {},
   "source": [
    "This notebook will define the ResNet-50 Model architecture we will be using, adapted to the LesionDataset class definition. "
   ]
  },
  {
   "cell_type": "markdown",
   "metadata": {},
   "source": [
    "Common errors when running include: deprecated packages or python version (3.10.10+ recommended), incompatible notebook kernel (if persistent, try setting it to the global kernel), missing requirements, not setting the dataset path to your local path"
   ]
  },
  {
   "cell_type": "code",
   "execution_count": null,
   "metadata": {},
   "outputs": [],
   "source": [
    "import sys\n",
    "\n",
    "sys.path.insert(0, \"..\")\n"
   ]
  },
  {
   "cell_type": "markdown",
   "metadata": {},
   "source": [
    "Importing dataset and printing to verify path correctness"
   ]
  },
  {
   "cell_type": "code",
   "execution_count": null,
   "metadata": {},
   "outputs": [],
   "source": [
    "from dataset import LesionDataset\n",
    "\n",
    "dataset = LesionDataset('data') #local path to data\n",
    "for patient in dataset.patients():\n",
    "    \"\"\"Patient is an instance of the Patient class\n",
    "\n",
    "    The `Patient` class exposes a number of methods for accessing a patient's associated data:\n",
    "    - `Patient.image_data(image_type)` - returns the image, prostate mask, and lesion arrays\n",
    "    corresponding to `image_type`\n",
    "    - `Patient.world_matrix()` - returns the world matrix of `image_type`\n",
    "    - `Patient.spacing(image_type)` - returns the voxel spacing of `image_type`\n",
    "    - `Patient.bvals()` - returns the b-values of the DWI images\n",
    "    - `Patient.slice_data(image_type, slice_index, crop_to_mask=False, pad=0)` - returns a particular\n",
    "    slice of the image/mask data, optionally cropped to the prostate mask for easier visualization.\n",
    "    \"\"\"\n",
    "    print(patient.patient_id)\n",
    "\n",
    "print(dataset.query('ProstateX-0000'))"
   ]
  },
  {
   "cell_type": "markdown",
   "metadata": {},
   "source": [
    "Setting up ResNet-50 Architecture"
   ]
  },
  {
   "cell_type": "code",
   "execution_count": null,
   "metadata": {},
   "outputs": [],
   "source": [
    "# start setting up classes for resnet50\n",
    "\n",
    "import torch\n",
    "import torch.nn as nn\n",
    "import torch.nn.functional as F\n",
    "\n",
    "class ResNet50(nn.Module):\n",
    "    def __init__(self, num_classes=1000):\n",
    "        super(ResNet50, self).__init__()\n",
    "        self.conv1 = nn.Conv2d(3, 64, kernel_size=7, stride=2, padding=3, bias=False)\n",
    "        self.bn1 = nn.BatchNorm2d(64)\n",
    "        self.relu = nn.ReLU(inplace=True)\n",
    "        self.maxpool = nn.MaxPool2d(kernel_size=3, stride=2, padding=1)\n",
    "\n",
    "        self.layer1 = self._make_layer(64, 64, 3)\n",
    "        self.layer2 = self._make_layer(256, 128, 4, stride=2)\n",
    "        self.layer3 = self._make_layer(512, 256, 6, stride=2)\n",
    "        self.layer4 = self._make_layer(1024, 512, 3, stride=2)\n",
    "\n",
    "        self.avgpool = nn.AvgPool2d(7, stride=1)\n",
    "        self.fc = nn.Linear(2048, num_classes)\n",
    "\n",
    "\n",
    "        self._initialize_weights()\n",
    "\n",
    "    def _make_layer(self, in_planes, out_planes, blocks, stride=1):\n",
    "        layers = []\n",
    "        layers.append(nn.Conv2d(in_planes, out_planes, kernel_size=3, stride=stride, padding=1, bias=False))\n",
    "        layers.append(nn.BatchNorm2d(out_planes))\n",
    "        layers.append(nn.ReLU(inplace=True))\n",
    "        for i in range(1, blocks):\n",
    "            layers.append(nn.Conv2d(out_planes, out_planes, kernel_size=3, stride=1, padding=1, bias=False))\n",
    "            layers.append(nn.BatchNorm2d(out_planes))\n",
    "            layers.append(nn.ReLU(inplace=True))\n",
    "        return nn.Sequential(*layers)\n",
    "\n",
    "    def forward(self, x):\n",
    "        x = self.conv1(x)\n",
    "        x = self.bn1(x)\n",
    "        x = self.relu(x)\n",
    "        x = self.maxpool(x)\n",
    "\n",
    "        x = self.layer1(x)\n",
    "        x = self.layer2(x)\n",
    "        x = self.layer3(x)\n",
    "        x = self.layer4(x)\n",
    "\n",
    "        x = self.avgpool(x)\n",
    "        x = x.view(x.size(0), -1)\n",
    "        x = self.fc(x)\n",
    "\n",
    "        return x\n",
    "\n",
    "    def _initialize_weights(self):\n",
    "        for m in self.modules():\n",
    "            if isinstance(m, nn.Conv2d):\n",
    "                nn.init.kaiming_normal_(m.weight, mode='fan_out', nonlinearity='relu')\n",
    "            elif isinstance(m, nn.BatchNorm2d):\n",
    "                nn.init.constant_(m.weight, 1)\n",
    "                nn.init.constant_(m.bias, 0)\n",
    "\n",
    "model = ResNet50()\n",
    "print(model)"
   ]
  },
  {
   "cell_type": "markdown",
   "metadata": {},
   "source": [
    "Sample image flattening example"
   ]
  },
  {
   "cell_type": "code",
   "execution_count": null,
   "metadata": {},
   "outputs": [],
   "source": [
    "import numpy as np\n",
    "img1 = np.load('data/ProstateX-0000/images/ADC.npy')\n",
    "# print(img1.shape)\n",
    "img2 = np.load('data/ProstateX-0000/images/CDIs.npy')\n",
    "# print(img2.shape)\n",
    "img3 = np.load('data/ProstateX-0000/images/DWI.npy')\n",
    "# print(img3.shape)\n",
    "\n",
    "# Img1 shape: (128, 84, 19)\n",
    "# Img2 shape: (128, 84, 19)\n",
    "# Img3 shape: (3, 128, 84, 19)\n",
    "\n",
    "img3_new = img3[0, :, :, :]\n",
    "print(img3_new.shape)\n",
    "img_stacked = np.stack((img1, img2, img3_new), axis=3)\n",
    "print(img_stacked.shape)\n",
    "img_stacked = np.reshape(img_stacked, (128, 84, 57))\n",
    "print(img_stacked.shape)\n",
    "\n",
    "# img_stacked shape: (128, 84, 57)\n",
    "\n",
    "\n"
   ]
  }
 ],
 "metadata": {
  "kernelspec": {
   "display_name": "Python 3.10.10 64-bit (microsoft store)",
   "language": "python",
   "name": "python3"
  },
  "language_info": {
   "codemirror_mode": {
    "name": "ipython",
    "version": 3
   },
   "file_extension": ".py",
   "mimetype": "text/x-python",
   "name": "python",
   "nbconvert_exporter": "python",
   "pygments_lexer": "ipython3",
   "version": "3.10.10"
  },
  "orig_nbformat": 4,
  "vscode": {
   "interpreter": {
    "hash": "f96f3ab603a3bef17b306e180372a45f4321da3e296b798bb08e31965ea4c400"
   }
  }
 },
 "nbformat": 4,
 "nbformat_minor": 2
}
